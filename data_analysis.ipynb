{
 "cells": [
  {
   "cell_type": "markdown",
   "metadata": {},
   "source": [
    "This notebook is used to perform some analysis on our datasets."
   ]
  },
  {
   "cell_type": "markdown",
   "metadata": {},
   "source": [
    "# Importation"
   ]
  },
  {
   "cell_type": "code",
   "execution_count": 2,
   "metadata": {},
   "outputs": [],
   "source": [
    "from tqdm import tqdm\n",
    "import pandas as pd\n",
    "import numpy as np\n",
    "import json\n",
    "import matplotlib.pyplot as plt\n",
    "import seaborn as sns\n",
    "sns.set_theme()"
   ]
  },
  {
   "cell_type": "code",
   "execution_count": 3,
   "metadata": {},
   "outputs": [],
   "source": [
    "#TODO change here the path to your data folder\n",
    "data_path='./data'"
   ]
  },
  {
   "cell_type": "code",
   "execution_count": 10,
   "metadata": {},
   "outputs": [],
   "source": [
    "with open(data_path+\"/dict_genres.json\", \"r\") as rfile: \n",
    "    dict_genres=json.load(rfile) #will be useful to remap genres names to the ids later\n",
    "    \n",
    "with open(data_path+\"/genres_counts.json\", \"r\") as rfile: \n",
    "    genres_count=json.load(rfile) #will be useful to analyze the data"
   ]
  },
  {
   "cell_type": "code",
   "execution_count": 5,
   "metadata": {},
   "outputs": [],
   "source": [
    "books_df=pd.read_csv(data_path+'/books_clean.csv')"
   ]
  },
  {
   "cell_type": "code",
   "execution_count": 6,
   "metadata": {},
   "outputs": [],
   "source": [
    "chapters_df=pd.read_csv(data_path+'/chapters_clean.csv')"
   ]
  },
  {
   "cell_type": "markdown",
   "metadata": {},
   "source": [
    "# Genres database"
   ]
  },
  {
   "cell_type": "code",
   "execution_count": 11,
   "metadata": {},
   "outputs": [
    {
     "data": {
      "text/html": [
       "<div>\n",
       "<style scoped>\n",
       "    .dataframe tbody tr th:only-of-type {\n",
       "        vertical-align: middle;\n",
       "    }\n",
       "\n",
       "    .dataframe tbody tr th {\n",
       "        vertical-align: top;\n",
       "    }\n",
       "\n",
       "    .dataframe thead th {\n",
       "        text-align: right;\n",
       "    }\n",
       "</style>\n",
       "<table border=\"1\" class=\"dataframe\">\n",
       "  <thead>\n",
       "    <tr style=\"text-align: right;\">\n",
       "      <th></th>\n",
       "      <th>title</th>\n",
       "      <th>text</th>\n",
       "      <th>genres</th>\n",
       "      <th>idx_genres</th>\n",
       "    </tr>\n",
       "  </thead>\n",
       "  <tbody>\n",
       "    <tr>\n",
       "      <th>0</th>\n",
       "      <td>apocolocyntosis</td>\n",
       "      <td>Produced by Ted Garvin, Ben Courtney and PG Di...</td>\n",
       "      <td>{'21st-century', 'history', 'roman', 'classics...</td>\n",
       "      <td>[0, 1, 2, 3, 4, 5, 6, 7, 8, 9, 10, 11, 12, 13,...</td>\n",
       "    </tr>\n",
       "    <tr>\n",
       "      <th>1</th>\n",
       "      <td>the house on the borderland</td>\n",
       "      <td>Produced by Suzanne Shell, Sjaani and PG Distr...</td>\n",
       "      <td>{'horror', 'mystery', 'classics', 'science-fic...</td>\n",
       "      <td>[16, 17, 3, 18, 19, 5, 8, 7, 20, 21, 22, 23, 2...</td>\n",
       "    </tr>\n",
       "    <tr>\n",
       "      <th>2</th>\n",
       "      <td>the warriors</td>\n",
       "      <td>Produced by Charles Aldarondo, Charlie Kirschn...</td>\n",
       "      <td>{'literary-fiction', 'history', 'biography', '...</td>\n",
       "      <td>[26, 1, 27, 28, 29, 30, 11, 14, 31, 32, 33, 19...</td>\n",
       "    </tr>\n",
       "    <tr>\n",
       "      <th>3</th>\n",
       "      <td>a voyage to the moon</td>\n",
       "      <td>Produced by Christine De Ryck, Stig M. Valstad...</td>\n",
       "      <td>{'20th-century', 'science-fiction', 'speculati...</td>\n",
       "      <td>[21, 18, 23]</td>\n",
       "    </tr>\n",
       "    <tr>\n",
       "      <th>4</th>\n",
       "      <td>la fiammetta</td>\n",
       "      <td>Produced by Ted Garvin, Dave Morgan and PG Dis...</td>\n",
       "      <td>{'literary-fiction', 'history', 'feminism', 'c...</td>\n",
       "      <td>[26, 1, 37, 3, 6, 7, 8, 21, 35, 11, 12, 13, 31]</td>\n",
       "    </tr>\n",
       "  </tbody>\n",
       "</table>\n",
       "</div>"
      ],
      "text/plain": [
       "                         title  \\\n",
       "0              apocolocyntosis   \n",
       "1  the house on the borderland   \n",
       "2                 the warriors   \n",
       "3         a voyage to the moon   \n",
       "4                 la fiammetta   \n",
       "\n",
       "                                                text  \\\n",
       "0  Produced by Ted Garvin, Ben Courtney and PG Di...   \n",
       "1  Produced by Suzanne Shell, Sjaani and PG Distr...   \n",
       "2  Produced by Charles Aldarondo, Charlie Kirschn...   \n",
       "3  Produced by Christine De Ryck, Stig M. Valstad...   \n",
       "4  Produced by Ted Garvin, Dave Morgan and PG Dis...   \n",
       "\n",
       "                                              genres  \\\n",
       "0  {'21st-century', 'history', 'roman', 'classics...   \n",
       "1  {'horror', 'mystery', 'classics', 'science-fic...   \n",
       "2  {'literary-fiction', 'history', 'biography', '...   \n",
       "3  {'20th-century', 'science-fiction', 'speculati...   \n",
       "4  {'literary-fiction', 'history', 'feminism', 'c...   \n",
       "\n",
       "                                          idx_genres  \n",
       "0  [0, 1, 2, 3, 4, 5, 6, 7, 8, 9, 10, 11, 12, 13,...  \n",
       "1  [16, 17, 3, 18, 19, 5, 8, 7, 20, 21, 22, 23, 2...  \n",
       "2  [26, 1, 27, 28, 29, 30, 11, 14, 31, 32, 33, 19...  \n",
       "3                                       [21, 18, 23]  \n",
       "4    [26, 1, 37, 3, 6, 7, 8, 21, 35, 11, 12, 13, 31]  "
      ]
     },
     "execution_count": 11,
     "metadata": {},
     "output_type": "execute_result"
    }
   ],
   "source": [
    "books_df.head()"
   ]
  },
  {
   "cell_type": "code",
   "execution_count": 12,
   "metadata": {},
   "outputs": [
    {
     "name": "stdout",
     "output_type": "stream",
     "text": [
      "The database has 1001 books.\n",
      "The number of genres represented is 100.\n",
      "The average length of a book is 363675 characters.\n",
      "The average number of genres per book is 7.\n"
     ]
    }
   ],
   "source": [
    "print(f'The database has {books_df.shape[0]} books.')\n",
    "print(f'The number of genres represented is {len(dict_genres)}.')\n",
    "print(f'The average length of a book is {round(np.mean(books_df.text.str.len()))} characters.')\n",
    "print(f'The average number of genres per book is {round(np.mean(books_df.genres.apply(lambda x: len(x.split(\",\")))))}.')"
   ]
  },
  {
   "cell_type": "code",
   "execution_count": 13,
   "metadata": {},
   "outputs": [
    {
     "data": {
      "text/html": [
       "<div>\n",
       "<style scoped>\n",
       "    .dataframe tbody tr th:only-of-type {\n",
       "        vertical-align: middle;\n",
       "    }\n",
       "\n",
       "    .dataframe tbody tr th {\n",
       "        vertical-align: top;\n",
       "    }\n",
       "\n",
       "    .dataframe thead th {\n",
       "        text-align: right;\n",
       "    }\n",
       "</style>\n",
       "<table border=\"1\" class=\"dataframe\">\n",
       "  <thead>\n",
       "    <tr style=\"text-align: right;\">\n",
       "      <th></th>\n",
       "      <th>0</th>\n",
       "    </tr>\n",
       "  </thead>\n",
       "  <tbody>\n",
       "    <tr>\n",
       "      <th>'fiction'</th>\n",
       "      <td>6527</td>\n",
       "    </tr>\n",
       "    <tr>\n",
       "      <th>'classics'</th>\n",
       "      <td>4827</td>\n",
       "    </tr>\n",
       "    <tr>\n",
       "      <th>'20th-century'</th>\n",
       "      <td>2797</td>\n",
       "    </tr>\n",
       "    <tr>\n",
       "      <th>'non-fiction'</th>\n",
       "      <td>2760</td>\n",
       "    </tr>\n",
       "    <tr>\n",
       "      <th>'history'</th>\n",
       "      <td>2626</td>\n",
       "    </tr>\n",
       "    <tr>\n",
       "      <th>'literature'</th>\n",
       "      <td>2469</td>\n",
       "    </tr>\n",
       "    <tr>\n",
       "      <th>'historical-fiction'</th>\n",
       "      <td>2344</td>\n",
       "    </tr>\n",
       "    <tr>\n",
       "      <th>'novels'</th>\n",
       "      <td>2021</td>\n",
       "    </tr>\n",
       "    <tr>\n",
       "      <th>'historical'</th>\n",
       "      <td>1984</td>\n",
       "    </tr>\n",
       "    <tr>\n",
       "      <th>'romance'</th>\n",
       "      <td>1824</td>\n",
       "    </tr>\n",
       "  </tbody>\n",
       "</table>\n",
       "</div>"
      ],
      "text/plain": [
       "                         0\n",
       "'fiction'             6527\n",
       "'classics'            4827\n",
       "'20th-century'        2797\n",
       "'non-fiction'         2760\n",
       "'history'             2626\n",
       "'literature'          2469\n",
       "'historical-fiction'  2344\n",
       "'novels'              2021\n",
       "'historical'          1984\n",
       "'romance'             1824"
      ]
     },
     "execution_count": 13,
     "metadata": {},
     "output_type": "execute_result"
    }
   ],
   "source": [
    "#top genres\n",
    "counts_df=pd.DataFrame.from_dict(genres_count, orient='index')\n",
    "counts_df.sort_values(0, ascending=False).head(10)"
   ]
  },
  {
   "cell_type": "code",
   "execution_count": 17,
   "metadata": {},
   "outputs": [
    {
     "data": {
      "text/plain": [
       "Text(0, 0.5, 'Books count')"
      ]
     },
     "execution_count": 17,
     "metadata": {},
     "output_type": "execute_result"
    },
    {
     "data": {
      "image/png": "[encoded data removed]",
      "text/plain": [
       "<Figure size 1000x500 with 1 Axes>"
      ]
     },
     "metadata": {},
     "output_type": "display_data"
    }
   ],
   "source": [
    "fig,ax=plt.subplots(figsize=(10,5))\n",
    "top15=counts_df.sort_values(0, ascending=False).head(15)\n",
    "sns.barplot(top15.T)\n",
    "ax.set_xticklabels(top15.index, rotation=60)\n",
    "#ax.set_title('Top 20 book genres')\n",
    "ax.set_xlabel('Genre')\n",
    "ax.set_ylabel('Books count')"
   ]
  },
  {
   "cell_type": "markdown",
   "metadata": {},
   "source": [
    "# Chapters database"
   ]
  },
  {
   "cell_type": "code",
   "execution_count": 60,
   "metadata": {},
   "outputs": [
    {
     "name": "stdout",
     "output_type": "stream",
     "text": [
      "The database has 10000 chapters.\n",
      "The database has 4182 books.\n",
      "The average number of chapters per book is 2.\n",
      "The average length of a chapter is 16352 characters.\n"
     ]
    }
   ],
   "source": [
    "print(f'The database has {chapters_df.shape[0]} chapters.')\n",
    "print(f'The database has {chapters_df.title.nunique()} books.')\n",
    "print(f'The average number of chapters per book is {round(chapters_df.shape[0]/chapters_df.title.nunique())}.')\n",
    "print(f'The average length of a chapter is {round(np.mean(chapters_df.chap_text.str.len()))} characters.')"
   ]
  },
  {
   "cell_type": "code",
   "execution_count": 64,
   "metadata": {},
   "outputs": [
    {
     "data": {
      "text/html": [
       "<div>\n",
       "<style scoped>\n",
       "    .dataframe tbody tr th:only-of-type {\n",
       "        vertical-align: middle;\n",
       "    }\n",
       "\n",
       "    .dataframe tbody tr th {\n",
       "        vertical-align: top;\n",
       "    }\n",
       "\n",
       "    .dataframe thead th {\n",
       "        text-align: right;\n",
       "    }\n",
       "</style>\n",
       "<table border=\"1\" class=\"dataframe\">\n",
       "  <thead>\n",
       "    <tr style=\"text-align: right;\">\n",
       "      <th></th>\n",
       "      <th>chap_text</th>\n",
       "    </tr>\n",
       "    <tr>\n",
       "      <th>title</th>\n",
       "      <th></th>\n",
       "    </tr>\n",
       "  </thead>\n",
       "  <tbody>\n",
       "    <tr>\n",
       "      <th>works of robert burns</th>\n",
       "      <td>75</td>\n",
       "    </tr>\n",
       "    <tr>\n",
       "      <th>the poetical works of thomas hood</th>\n",
       "      <td>73</td>\n",
       "    </tr>\n",
       "    <tr>\n",
       "      <th>the aeneid of virgil</th>\n",
       "      <td>45</td>\n",
       "    </tr>\n",
       "    <tr>\n",
       "      <th>historical novels</th>\n",
       "      <td>37</td>\n",
       "    </tr>\n",
       "    <tr>\n",
       "      <th>plutarchs lives volume iii</th>\n",
       "      <td>30</td>\n",
       "    </tr>\n",
       "    <tr>\n",
       "      <th>childe harolds pilgrimage</th>\n",
       "      <td>30</td>\n",
       "    </tr>\n",
       "    <tr>\n",
       "      <th>websters unabridged dictionary</th>\n",
       "      <td>25</td>\n",
       "    </tr>\n",
       "    <tr>\n",
       "      <th>war and peace</th>\n",
       "      <td>23</td>\n",
       "    </tr>\n",
       "    <tr>\n",
       "      <th>the new testament</th>\n",
       "      <td>22</td>\n",
       "    </tr>\n",
       "    <tr>\n",
       "      <th>le morte darthur volume ii</th>\n",
       "      <td>22</td>\n",
       "    </tr>\n",
       "    <tr>\n",
       "      <th>ciceros tusculan disputations</th>\n",
       "      <td>21</td>\n",
       "    </tr>\n",
       "    <tr>\n",
       "      <th>plutarchs lives volume ii</th>\n",
       "      <td>21</td>\n",
       "    </tr>\n",
       "    <tr>\n",
       "      <th>the minstrel</th>\n",
       "      <td>20</td>\n",
       "    </tr>\n",
       "    <tr>\n",
       "      <th>childrens literature</th>\n",
       "      <td>20</td>\n",
       "    </tr>\n",
       "    <tr>\n",
       "      <th>st gregory hymnal</th>\n",
       "      <td>19</td>\n",
       "    </tr>\n",
       "    <tr>\n",
       "      <th>the gentleman</th>\n",
       "      <td>17</td>\n",
       "    </tr>\n",
       "    <tr>\n",
       "      <th>chronicle of the cid</th>\n",
       "      <td>16</td>\n",
       "    </tr>\n",
       "    <tr>\n",
       "      <th>the grammar of english grammars</th>\n",
       "      <td>16</td>\n",
       "    </tr>\n",
       "    <tr>\n",
       "      <th>good sense</th>\n",
       "      <td>16</td>\n",
       "    </tr>\n",
       "    <tr>\n",
       "      <th>the parisians complete</th>\n",
       "      <td>16</td>\n",
       "    </tr>\n",
       "  </tbody>\n",
       "</table>\n",
       "</div>"
      ],
      "text/plain": [
       "                                   chap_text\n",
       "title                                       \n",
       "works of robert burns                     75\n",
       "the poetical works of thomas hood         73\n",
       "the aeneid of virgil                      45\n",
       "historical novels                         37\n",
       "plutarchs lives volume iii                30\n",
       "childe harolds pilgrimage                 30\n",
       "websters unabridged dictionary            25\n",
       "war and peace                             23\n",
       "the new testament                         22\n",
       "le morte darthur volume ii                22\n",
       "ciceros tusculan disputations             21\n",
       "plutarchs lives volume ii                 21\n",
       "the minstrel                              20\n",
       "childrens literature                      20\n",
       "st gregory hymnal                         19\n",
       "the gentleman                             17\n",
       "chronicle of the cid                      16\n",
       "the grammar of english grammars           16\n",
       "good sense                                16\n",
       "the parisians complete                    16"
      ]
     },
     "execution_count": 64,
     "metadata": {},
     "output_type": "execute_result"
    }
   ],
   "source": [
    "#top books\n",
    "counts_chap=chapters_df.groupby('title').agg(pd.Series.nunique)\n",
    "counts_chap.sort_values('chap_text', ascending=False).head(20)"
   ]
  }
 ],
 "metadata": {
  "kernelspec": {
   "display_name": "Python 3",
   "language": "python",
   "name": "python3"
  },
  "language_info": {
   "codemirror_mode": {
    "name": "ipython",
    "version": 3
   },
   "file_extension": ".py",
   "mimetype": "text/x-python",
   "name": "python",
   "nbconvert_exporter": "python",
   "pygments_lexer": "ipython3",
   "version": "3.10.9"
  }
 },
 "nbformat": 4,
 "nbformat_minor": 2
}
