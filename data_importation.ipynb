{
 "cells": [
  {
   "cell_type": "markdown",
   "metadata": {},
   "source": [
    "This notebook is used to import the data and pre-process it."
   ]
  },
  {
   "cell_type": "markdown",
   "metadata": {},
   "source": [
    "# Importation"
   ]
  },
  {
   "cell_type": "code",
   "execution_count": 1,
   "metadata": {},
   "outputs": [],
   "source": [
    "from gutenberg.acquire import load_etext\n",
    "from gutenberg.cleanup import strip_headers\n",
    "from gutenberg.query import get_metadata\n",
    "from tqdm import tqdm\n",
    "import pandas as pd\n",
    "import numpy as np\n",
    "import json \n",
    "import pickle\n",
    "import string\n",
    "from langdetect import detect_langs\n",
    "\n",
    "import matplotlib.pyplot as plt\n",
    "from Book import Book\n",
    "from sklearn.preprocessing import MultiLabelBinarizer\n",
    "from nltk.tokenize import word_tokenize\n",
    "from nltk.stem import PorterStemmer\n",
    "from nltk.stem import WordNetLemmatizer\n",
    "from nltk.corpus import stopwords"
   ]
  },
  {
   "cell_type": "code",
   "execution_count": 2,
   "metadata": {},
   "outputs": [],
   "source": [
    "#TODO change here the path to your data folder where you stored the csv 'books_and_genres.csv'\n",
    "data_path='./data'"
   ]
  },
  {
   "cell_type": "markdown",
   "metadata": {},
   "source": [
    "# Datasets"
   ]
  },
  {
   "cell_type": "markdown",
   "metadata": {},
   "source": [
    "## Gutenberg module (too long to load, not used)"
   ]
  },
  {
   "cell_type": "markdown",
   "metadata": {},
   "source": [
    "### Test"
   ]
  },
  {
   "cell_type": "code",
   "execution_count": 3,
   "metadata": {},
   "outputs": [],
   "source": [
    "#A simple test to see if the module Gutenberg is well installed \n",
    "try:\n",
    "    load_etext(1)\n",
    "except:\n",
    "    print(\"WARNING Review your installation of the Gutenberg module, you might need to change the mirror used. See README.\")"
   ]
  },
  {
   "cell_type": "markdown",
   "metadata": {},
   "source": [
    "### Loading books and their metadata"
   ]
  },
  {
   "cell_type": "code",
   "execution_count": 4,
   "metadata": {},
   "outputs": [
    {
     "name": "stderr",
     "output_type": "stream",
     "text": [
      "100%|██████████| 10/10 [00:00<00:00, 105.28it/s]\n"
     ]
    }
   ],
   "source": [
    "books={}\n",
    "for i in tqdm(range(10)):\n",
    "    try:\n",
    "        book=strip_headers(load_etext(i)).strip()\n",
    "        #author,=get_metadata('author', i)\n",
    "        #title, =get_metadata('title', i)\n",
    "        #genres=get_metadata('subject', i)\n",
    "    except:\n",
    "        continue\n",
    "    books[i]={}\n",
    "    books[i]['text']=book\n",
    "    #books[i]['title']=title\n",
    "    #books[i]['author']=author\n",
    "   # books[i]['genres']=genres  #TODO clean this list"
   ]
  },
  {
   "cell_type": "code",
   "execution_count": 5,
   "metadata": {},
   "outputs": [
    {
     "name": "stdout",
     "output_type": "stream",
     "text": [
      "9 books were downloaded\n"
     ]
    }
   ],
   "source": [
    "print(f'{len(books)} books were downloaded')"
   ]
  },
  {
   "cell_type": "markdown",
   "metadata": {},
   "source": [
    "## 10 000 e-books"
   ]
  },
  {
   "cell_type": "code",
   "execution_count": 6,
   "metadata": {},
   "outputs": [],
   "source": [
    "raw_data = pd.read_csv(data_path+'/books_and_genres.csv')"
   ]
  },
  {
   "cell_type": "code",
   "execution_count": 14,
   "metadata": {},
   "outputs": [],
   "source": [
    "#removing nan values\n",
    "books_df=raw_data.dropna()"
   ]
  },
  {
   "cell_type": "code",
   "execution_count": 15,
   "metadata": {},
   "outputs": [],
   "source": [
    "#removing non english books\n",
    "def detect_language(text): \n",
    "    test_text=text[:min(500, len(text))]\n",
    "    try: \n",
    "        langs = detect_langs(test_text) \n",
    "        for item in langs: \n",
    "            # The first one returned is usually the one that has the highest probability\n",
    "            return item.lang\n",
    "    except: return \"err\"\n",
    "language=books_df.text.apply(detect_language)\n",
    "books_df=books_df[language=='en'].reset_index(drop=True)"
   ]
  },
  {
   "cell_type": "code",
   "execution_count": 16,
   "metadata": {},
   "outputs": [],
   "source": [
    "books_df = books_df.iloc[: , 1:]"
   ]
  },
  {
   "cell_type": "code",
   "execution_count": 17,
   "metadata": {},
   "outputs": [
    {
     "data": {
      "text/html": [
       "<div>\n",
       "<style scoped>\n",
       "    .dataframe tbody tr th:only-of-type {\n",
       "        vertical-align: middle;\n",
       "    }\n",
       "\n",
       "    .dataframe tbody tr th {\n",
       "        vertical-align: top;\n",
       "    }\n",
       "\n",
       "    .dataframe thead th {\n",
       "        text-align: right;\n",
       "    }\n",
       "</style>\n",
       "<table border=\"1\" class=\"dataframe\">\n",
       "  <thead>\n",
       "    <tr style=\"text-align: right;\">\n",
       "      <th></th>\n",
       "      <th>title</th>\n",
       "      <th>text</th>\n",
       "      <th>genres</th>\n",
       "    </tr>\n",
       "  </thead>\n",
       "  <tbody>\n",
       "    <tr>\n",
       "      <th>0</th>\n",
       "      <td>apocolocyntosis</td>\n",
       "      <td>Produced by Ted Garvin, Ben Courtney and PG Di...</td>\n",
       "      <td>{'21st-century', 'history', 'roman', 'classics...</td>\n",
       "    </tr>\n",
       "    <tr>\n",
       "      <th>1</th>\n",
       "      <td>the house on the borderland</td>\n",
       "      <td>Produced by Suzanne Shell, Sjaani and PG Distr...</td>\n",
       "      <td>{'horror', 'mystery', 'classics', 'science-fic...</td>\n",
       "    </tr>\n",
       "    <tr>\n",
       "      <th>2</th>\n",
       "      <td>the warriors</td>\n",
       "      <td>Produced by Charles Aldarondo, Charlie Kirschn...</td>\n",
       "      <td>{'literary-fiction', 'history', 'biography', '...</td>\n",
       "    </tr>\n",
       "    <tr>\n",
       "      <th>3</th>\n",
       "      <td>a voyage to the moon</td>\n",
       "      <td>Produced by Christine De Ryck, Stig M. Valstad...</td>\n",
       "      <td>{'20th-century', 'science-fiction', 'speculati...</td>\n",
       "    </tr>\n",
       "    <tr>\n",
       "      <th>4</th>\n",
       "      <td>la fiammetta</td>\n",
       "      <td>Produced by Ted Garvin, Dave Morgan and PG Dis...</td>\n",
       "      <td>{'literary-fiction', 'history', 'feminism', 'c...</td>\n",
       "    </tr>\n",
       "  </tbody>\n",
       "</table>\n",
       "</div>"
      ],
      "text/plain": [
       "                         title  \\\n",
       "0              apocolocyntosis   \n",
       "1  the house on the borderland   \n",
       "2                 the warriors   \n",
       "3         a voyage to the moon   \n",
       "4                 la fiammetta   \n",
       "\n",
       "                                                text  \\\n",
       "0  Produced by Ted Garvin, Ben Courtney and PG Di...   \n",
       "1  Produced by Suzanne Shell, Sjaani and PG Distr...   \n",
       "2  Produced by Charles Aldarondo, Charlie Kirschn...   \n",
       "3  Produced by Christine De Ryck, Stig M. Valstad...   \n",
       "4  Produced by Ted Garvin, Dave Morgan and PG Dis...   \n",
       "\n",
       "                                              genres  \n",
       "0  {'21st-century', 'history', 'roman', 'classics...  \n",
       "1  {'horror', 'mystery', 'classics', 'science-fic...  \n",
       "2  {'literary-fiction', 'history', 'biography', '...  \n",
       "3  {'20th-century', 'science-fiction', 'speculati...  \n",
       "4  {'literary-fiction', 'history', 'feminism', 'c...  "
      ]
     },
     "execution_count": 17,
     "metadata": {},
     "output_type": "execute_result"
    }
   ],
   "source": [
    "books_df.head()"
   ]
  },
  {
   "cell_type": "code",
   "execution_count": 19,
   "metadata": {},
   "outputs": [],
   "source": [
    "genres_dict = {}\n",
    "genres_count={}\n",
    "new_genres=[]\n",
    "i=0\n",
    "for genres_str in books_df.genres:\n",
    "    genres_list = genres_str[1:len(genres_str)-1].split(', ')\n",
    "    for genre in genres_list:\n",
    "        if genre not in genres_dict:\n",
    "            genres_dict[genre]=i\n",
    "            genres_count[genre]=1\n",
    "            i+=1\n",
    "        else:\n",
    "            genres_count[genre]+=1\n",
    "    new_genres.append([genres_dict[g] for g in genres_list])"
   ]
  },
  {
   "cell_type": "code",
   "execution_count": 20,
   "metadata": {},
   "outputs": [],
   "source": [
    "books_df['idx_genres']=pd.Series(new_genres)"
   ]
  },
  {
   "cell_type": "markdown",
   "metadata": {},
   "source": [
    "## Books to chapters"
   ]
  },
  {
   "cell_type": "code",
   "execution_count": 21,
   "metadata": {},
   "outputs": [
    {
     "name": "stderr",
     "output_type": "stream",
     "text": [
      "9500it [02:42, 58.34it/s] \n"
     ]
    }
   ],
   "source": [
    "all_chapters=[]\n",
    "for i, row in tqdm(books_df.iterrows()):\n",
    "    b=Book(row['text'])\n",
    "    chap=b.rebuild_chapters()\n",
    "    chap_df=pd.DataFrame({'chap_text':chap})\n",
    "    chap_df['title']=row['title']\n",
    "    all_chapters.append(chap_df)"
   ]
  },
  {
   "cell_type": "code",
   "execution_count": 22,
   "metadata": {},
   "outputs": [],
   "source": [
    "all_chapters_df=pd.concat(all_chapters)"
   ]
  },
  {
   "cell_type": "code",
   "execution_count": 23,
   "metadata": {},
   "outputs": [
    {
     "data": {
      "text/html": [
       "<div>\n",
       "<style scoped>\n",
       "    .dataframe tbody tr th:only-of-type {\n",
       "        vertical-align: middle;\n",
       "    }\n",
       "\n",
       "    .dataframe tbody tr th {\n",
       "        vertical-align: top;\n",
       "    }\n",
       "\n",
       "    .dataframe thead th {\n",
       "        text-align: right;\n",
       "    }\n",
       "</style>\n",
       "<table border=\"1\" class=\"dataframe\">\n",
       "  <thead>\n",
       "    <tr style=\"text-align: right;\">\n",
       "      <th></th>\n",
       "      <th>chap_text</th>\n",
       "      <th>title</th>\n",
       "    </tr>\n",
       "  </thead>\n",
       "  <tbody>\n",
       "    <tr>\n",
       "      <th>0</th>\n",
       "      <td>your own if you will be fair.) Come tell me, b...</td>\n",
       "      <td>apocolocyntosis</td>\n",
       "    </tr>\n",
       "    <tr>\n",
       "      <th>0</th>\n",
       "      <td>THE CHURCH OF GOD IV. THE WORLD-MARCH:   ...</td>\n",
       "      <td>the warriors</td>\n",
       "    </tr>\n",
       "    <tr>\n",
       "      <th>1</th>\n",
       "      <td>[CUTLER]     _The Son of God goes forth t...</td>\n",
       "      <td>the warriors</td>\n",
       "    </tr>\n",
       "    <tr>\n",
       "      <th>2</th>\n",
       "      <td>[VOX DILECTI]     _I heard the voice of J...</td>\n",
       "      <td>the warriors</td>\n",
       "    </tr>\n",
       "    <tr>\n",
       "      <th>3</th>\n",
       "      <td>[AURELIA]     _The Church's one foundatio...</td>\n",
       "      <td>the warriors</td>\n",
       "    </tr>\n",
       "    <tr>\n",
       "      <th>4</th>\n",
       "      <td>[DIE WACHT AM RHEIN]     _Jesus shall rei...</td>\n",
       "      <td>the warriors</td>\n",
       "    </tr>\n",
       "    <tr>\n",
       "      <th>5</th>\n",
       "      <td>[LYONS]     _O Majesty throned, O Lord of...</td>\n",
       "      <td>the warriors</td>\n",
       "    </tr>\n",
       "    <tr>\n",
       "      <th>6</th>\n",
       "      <td>[ADESTE FIDELES]     _Our Father in Heave...</td>\n",
       "      <td>the warriors</td>\n",
       "    </tr>\n",
       "    <tr>\n",
       "      <th>7</th>\n",
       "      <td>[AMSTERDAM]     _Lo, my soul, look forth ...</td>\n",
       "      <td>the warriors</td>\n",
       "    </tr>\n",
       "    <tr>\n",
       "      <th>8</th>\n",
       "      <td>[ARMAGEDON]     Jesus, Thou hast bought u...</td>\n",
       "      <td>the warriors</td>\n",
       "    </tr>\n",
       "  </tbody>\n",
       "</table>\n",
       "</div>"
      ],
      "text/plain": [
       "                                           chap_text            title\n",
       "0  your own if you will be fair.) Come tell me, b...  apocolocyntosis\n",
       "0       THE CHURCH OF GOD IV. THE WORLD-MARCH:   ...     the warriors\n",
       "1       [CUTLER]     _The Son of God goes forth t...     the warriors\n",
       "2       [VOX DILECTI]     _I heard the voice of J...     the warriors\n",
       "3       [AURELIA]     _The Church's one foundatio...     the warriors\n",
       "4       [DIE WACHT AM RHEIN]     _Jesus shall rei...     the warriors\n",
       "5       [LYONS]     _O Majesty throned, O Lord of...     the warriors\n",
       "6       [ADESTE FIDELES]     _Our Father in Heave...     the warriors\n",
       "7       [AMSTERDAM]     _Lo, my soul, look forth ...     the warriors\n",
       "8       [ARMAGEDON]     Jesus, Thou hast bought u...     the warriors"
      ]
     },
     "execution_count": 23,
     "metadata": {},
     "output_type": "execute_result"
    }
   ],
   "source": [
    "all_chapters_df.head(10)"
   ]
  },
  {
   "cell_type": "markdown",
   "metadata": {},
   "source": [
    "# Pre-processing"
   ]
  },
  {
   "cell_type": "code",
   "execution_count": 24,
   "metadata": {},
   "outputs": [],
   "source": [
    "### Preprocessing functions\n",
    "def stemming(x):\n",
    "    ps = PorterStemmer() # Initialize Python porter stemmer\n",
    "    return [ps.stem(w) for w in x]\n",
    "\n",
    "def lemmatization(x):\n",
    "    wnl = WordNetLemmatizer() # Initialize wordnet lemmatizer\n",
    "    return [wnl.lemmatize(w) for w in x]\n",
    "\n",
    "def stop_words(x):\n",
    "    stop_words = set(stopwords.words('english'))\n",
    "    return [w for w in x if not w.lower() in stop_words]"
   ]
  },
  {
   "cell_type": "code",
   "execution_count": 25,
   "metadata": {},
   "outputs": [],
   "source": [
    "def preprocessing(X, rm_stop, stem, lem):\n",
    "    X_new=[]\n",
    "    for doc in tqdm(X):\n",
    "        new_doc=word_tokenize(doc.lower().translate(str.maketrans(\"\", \"\", string.punctuation)))\n",
    "        if rm_stop:\n",
    "            new_doc=stop_words(new_doc)\n",
    "        if stem:\n",
    "            new_doc=stemming(new_doc)\n",
    "        if lem:\n",
    "            new_doc=lemmatization(new_doc)\n",
    "        X_new.append(new_doc)    \n",
    "    return X_new"
   ]
  },
  {
   "cell_type": "markdown",
   "metadata": {},
   "source": [
    "## Genres database"
   ]
  },
  {
   "cell_type": "code",
   "execution_count": 26,
   "metadata": {},
   "outputs": [],
   "source": [
    "mlb = MultiLabelBinarizer()\n",
    "df=books_df.loc[:1000, :]\n",
    "df.to_csv(data_path+'/books_clean.csv', index=False)\n",
    "X,y=df.text.tolist(), pd.DataFrame(mlb.fit_transform(df.idx_genres),columns=mlb.classes_, index=df.index)"
   ]
  },
  {
   "cell_type": "code",
   "execution_count": 27,
   "metadata": {},
   "outputs": [
    {
     "name": "stderr",
     "output_type": "stream",
     "text": [
      "  0%|          | 0/1001 [00:00<?, ?it/s]"
     ]
    },
    {
     "name": "stderr",
     "output_type": "stream",
     "text": [
      "100%|██████████| 1001/1001 [19:59<00:00,  1.20s/it]\n"
     ]
    }
   ],
   "source": [
    "X_new=preprocessing(X, True, True, False)"
   ]
  },
  {
   "cell_type": "markdown",
   "metadata": {},
   "source": [
    "## Chapters database"
   ]
  },
  {
   "cell_type": "code",
   "execution_count": 28,
   "metadata": {},
   "outputs": [],
   "source": [
    "chapters_df=all_chapters_df.sample(10000)\n",
    "chapters_df.to_csv(data_path+'/chapters_clean.csv', index=False)"
   ]
  },
  {
   "cell_type": "code",
   "execution_count": 29,
   "metadata": {},
   "outputs": [],
   "source": [
    "X2,y2=chapters_df.chap_text.tolist(), chapters_df.title.tolist()"
   ]
  },
  {
   "cell_type": "code",
   "execution_count": 30,
   "metadata": {},
   "outputs": [
    {
     "name": "stderr",
     "output_type": "stream",
     "text": [
      "  0%|          | 2/10000 [00:00<11:35, 14.38it/s]"
     ]
    },
    {
     "name": "stderr",
     "output_type": "stream",
     "text": [
      "100%|██████████| 10000/10000 [09:10<00:00, 18.15it/s] \n"
     ]
    }
   ],
   "source": [
    "X2_new=preprocessing(X2, True, True, False)"
   ]
  },
  {
   "cell_type": "markdown",
   "metadata": {},
   "source": [
    "# Exportation"
   ]
  },
  {
   "cell_type": "code",
   "execution_count": 31,
   "metadata": {},
   "outputs": [],
   "source": [
    "with open(\"./data/dict_genres.json\", \"w\") as outfile: \n",
    "    json.dump(genres_dict, outfile) #will be useful to remap genres names to the ids later\n",
    "    \n",
    "with open(\"./data/genres_counts.json\", \"w\") as outfile: \n",
    "    json.dump(genres_count, outfile) #will be useful to analyze the data"
   ]
  },
  {
   "cell_type": "code",
   "execution_count": 34,
   "metadata": {},
   "outputs": [],
   "source": [
    "#Exporting X and y (genre prediction)\n",
    "with open('./data/X.pkl', 'wb') as f:\n",
    "    pickle.dump(X_new, f)\n",
    "\n",
    "with open('./data/y.pkl', 'wb') as f:\n",
    "    pickle.dump(y, f)"
   ]
  },
  {
   "cell_type": "code",
   "execution_count": 69,
   "metadata": {},
   "outputs": [],
   "source": [
    "#Exporting X and y (chapter clustering)\n",
    "with open('./data/X2.pkl', 'wb') as f:\n",
    "    pickle.dump(X2_new, f)\n",
    "\n",
    "with open('./data/y2.pkl', 'wb') as f:\n",
    "    pickle.dump(y2, f)"
   ]
  }
 ],
 "metadata": {
  "kernelspec": {
   "display_name": "opht",
   "language": "python",
   "name": "python3"
  },
  "language_info": {
   "codemirror_mode": {
    "name": "ipython",
    "version": 3
   },
   "file_extension": ".py",
   "mimetype": "text/x-python",
   "name": "python",
   "nbconvert_exporter": "python",
   "pygments_lexer": "ipython3",
   "version": "3.10.9"
  }
 },
 "nbformat": 4,
 "nbformat_minor": 2
}
