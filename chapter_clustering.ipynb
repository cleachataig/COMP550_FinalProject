{
 "cells": [
  {
   "cell_type": "markdown",
   "metadata": {},
   "source": [
    "This notebook is for the chapter clustering task."
   ]
  },
  {
   "cell_type": "markdown",
   "metadata": {},
   "source": [
    "# Importation"
   ]
  },
  {
   "cell_type": "code",
   "execution_count": 12,
   "metadata": {},
   "outputs": [],
   "source": [
    "from tqdm import tqdm\n",
    "from gensim.models.doc2vec import Doc2Vec, TaggedDocument\n",
    "import pickle\n",
    "import pandas as pd\n",
    "import numpy as np\n",
    "from sklearn.model_selection import train_test_split\n",
    "from sklearn.feature_extraction.text import CountVectorizer\n",
    "from sklearn.metrics.pairwise import euclidean_distances\n",
    "from sklearn.cluster import KMeans, AgglomerativeClustering\n",
    "import seaborn as sns\n",
    "import matplotlib.pyplot as plt\n",
    "sns.set_theme()"
   ]
  },
  {
   "cell_type": "code",
   "execution_count": 2,
   "metadata": {},
   "outputs": [],
   "source": [
    "#TODO change here the path to your data folder\n",
    "data_path='./data'"
   ]
  },
  {
   "cell_type": "code",
   "execution_count": 3,
   "metadata": {},
   "outputs": [],
   "source": [
    "#Importing the X and y\n",
    "with open(data_path+'/X2.pkl', 'rb') as f:\n",
    "    X=pickle.load(f)\n",
    "\n",
    "with open(data_path+'/y2.pkl', 'rb') as f:\n",
    "    y=pickle.load(f)"
   ]
  },
  {
   "cell_type": "code",
   "execution_count": 4,
   "metadata": {},
   "outputs": [],
   "source": [
    "#Building our train test and validation set\n",
    "X_pretrain, X_test, y_pretrain, y_test = train_test_split(X, y, test_size=0.2, random_state=42)\n",
    "X_train, X_valid, y_train, y_valid = train_test_split(X_pretrain, y_pretrain, test_size=0.2, random_state=42)"
   ]
  },
  {
   "cell_type": "markdown",
   "metadata": {},
   "source": [
    "# Pre-processing"
   ]
  },
  {
   "cell_type": "markdown",
   "metadata": {},
   "source": [
    "### Doc2Vec distributed bag of words"
   ]
  },
  {
   "cell_type": "code",
   "execution_count": 6,
   "metadata": {},
   "outputs": [],
   "source": [
    "# tagged data: each doc number is a label\n",
    "tagged_data = [TaggedDocument(words=doc,\n",
    "                              tags=[str(i)]) for i, doc in enumerate(X_train)]\n",
    "# train the Doc2vec model\n",
    "model = Doc2Vec(vector_size=20,\n",
    "                min_count=2, epochs=50)\n",
    "model.build_vocab(tagged_data)\n",
    "model.train(tagged_data,\n",
    "            total_examples=model.corpus_count,\n",
    "            epochs=model.epochs)"
   ]
  },
  {
   "cell_type": "code",
   "execution_count": 7,
   "metadata": {},
   "outputs": [
    {
     "name": "stderr",
     "output_type": "stream",
     "text": [
      "100%|██████████| 6400/6400 [24:22<00:00,  4.38it/s]  \n",
      "100%|██████████| 1600/1600 [05:33<00:00,  4.80it/s]\n",
      "100%|██████████| 2000/2000 [09:54<00:00,  3.36it/s]\n"
     ]
    }
   ],
   "source": [
    "# get the document vectors\n",
    "X_train_vec = [model.infer_vector(doc) for doc in tqdm(X_train)]\n",
    "X_valid_vec = [model.infer_vector(doc) for doc in tqdm(X_valid)]\n",
    "X_test_vec = [model.infer_vector(doc) for doc in tqdm(X_test)]"
   ]
  },
  {
   "cell_type": "markdown",
   "metadata": {},
   "source": [
    "### Doc2Vec distributed memory"
   ]
  },
  {
   "cell_type": "code",
   "execution_count": 8,
   "metadata": {},
   "outputs": [],
   "source": [
    "# train the Doc2vec model\n",
    "model2 = Doc2Vec(vector_size=20, min_count=2, epochs=50, dm=1)\n",
    "model2.build_vocab(tagged_data)\n",
    "model2.train(tagged_data,\n",
    "            total_examples=model2.corpus_count,\n",
    "            epochs=model2.epochs)"
   ]
  },
  {
   "cell_type": "code",
   "execution_count": 9,
   "metadata": {},
   "outputs": [
    {
     "name": "stderr",
     "output_type": "stream",
     "text": [
      "100%|██████████| 6400/6400 [25:19<00:00,  4.21it/s] \n",
      "100%|██████████| 1600/1600 [06:12<00:00,  4.30it/s]\n",
      "100%|██████████| 2000/2000 [08:38<00:00,  3.86it/s]\n"
     ]
    }
   ],
   "source": [
    "# get the document vectors\n",
    "X_train_vec2 = [model2.infer_vector(doc) for doc in tqdm(X_train)]\n",
    "X_valid_vec2 = [model2.infer_vector(doc) for doc in tqdm(X_valid)]\n",
    "X_test_vec2 = [model2.infer_vector(doc) for doc in tqdm(X_test)]"
   ]
  },
  {
   "cell_type": "markdown",
   "metadata": {},
   "source": [
    "### Count Vectorizer"
   ]
  },
  {
   "cell_type": "code",
   "execution_count": 10,
   "metadata": {},
   "outputs": [],
   "source": [
    "def dummy(doc):\n",
    "    return doc\n",
    "\n",
    "def preprocess_train_valid(X_train, X_valid):\n",
    "    vectorizer = CountVectorizer(\n",
    "            tokenizer=dummy,\n",
    "            preprocessor=dummy,\n",
    "        ) \n",
    "    X_train_new=vectorizer.fit_transform(X_train)\n",
    "    X_valid_new=vectorizer.transform(X_valid)\n",
    "    return (X_train_new, X_valid_new)"
   ]
  },
  {
   "cell_type": "code",
   "execution_count": 13,
   "metadata": {},
   "outputs": [
    {
     "name": "stderr",
     "output_type": "stream",
     "text": [
      "/Users/clea/opt/anaconda3/envs/opht/lib/python3.10/site-packages/sklearn/feature_extraction/text.py:528: UserWarning: The parameter 'token_pattern' will not be used since 'tokenizer' is not None'\n",
      "  warnings.warn(\n"
     ]
    }
   ],
   "source": [
    "X_train_count, X_valid_count=preprocess_train_valid(X_train, X_valid)"
   ]
  },
  {
   "cell_type": "markdown",
   "metadata": {},
   "source": [
    "# Model"
   ]
  },
  {
   "cell_type": "code",
   "execution_count": 44,
   "metadata": {},
   "outputs": [
    {
     "name": "stderr",
     "output_type": "stream",
     "text": [
      "/Users/clea/opt/anaconda3/envs/opht/lib/python3.10/site-packages/sklearn/cluster/_kmeans.py:870: FutureWarning: The default value of `n_init` will change from 10 to 'auto' in 1.4. Set the value of `n_init` explicitly to suppress the warning\n",
      "  warnings.warn(\n",
      "/Users/clea/opt/anaconda3/envs/opht/lib/python3.10/site-packages/sklearn/cluster/_kmeans.py:870: FutureWarning: The default value of `n_init` will change from 10 to 'auto' in 1.4. Set the value of `n_init` explicitly to suppress the warning\n",
      "  warnings.warn(\n"
     ]
    }
   ],
   "source": [
    "kmeans = KMeans(n_clusters=3000).fit(X_train_vec)\n",
    "kmeans2 = KMeans(n_clusters=3000).fit(X_train_vec2)"
   ]
  },
  {
   "cell_type": "code",
   "execution_count": 45,
   "metadata": {},
   "outputs": [],
   "source": [
    "agg_cluster = AgglomerativeClustering(n_clusters=3000).fit(X_train_vec)\n",
    "agg_cluster2 = AgglomerativeClustering(n_clusters=3000).fit(X_train_vec2)"
   ]
  },
  {
   "cell_type": "markdown",
   "metadata": {},
   "source": [
    "# Results"
   ]
  },
  {
   "cell_type": "markdown",
   "metadata": {},
   "source": [
    "### Training set"
   ]
  },
  {
   "cell_type": "code",
   "execution_count": 51,
   "metadata": {},
   "outputs": [],
   "source": [
    "res={}\n",
    "for i, title in enumerate(y_train):\n",
    "    if title not in res:\n",
    "        res[title]=0\n",
    "    res[title]+=np.sum(X_train_vec[i]**2)\n",
    "results_doc=pd.DataFrame.from_dict(res, orient='index').reset_index()\n",
    "results_doc.columns=['title', 'dist_doc2vec_bow']\n",
    "results_doc.dist_doc2vec_bow=np.sqrt(results_doc.dist_doc2vec_bow)"
   ]
  },
  {
   "cell_type": "code",
   "execution_count": 52,
   "metadata": {},
   "outputs": [],
   "source": [
    "res2={}\n",
    "for i, title in enumerate(y_train):\n",
    "    if title not in res2:\n",
    "        res2[title]=0\n",
    "    res2[title]+=np.sum(X_train_vec2[i]**2)\n",
    "results_doc2=pd.DataFrame.from_dict(res2, orient='index').reset_index()\n",
    "results_doc2.columns=['title', 'dist_doc2vec_dm']\n",
    "results_doc2.dist_doc2vec_dm=np.sqrt(results_doc2.dist_doc2vec_dm)"
   ]
  },
  {
   "cell_type": "code",
   "execution_count": 53,
   "metadata": {},
   "outputs": [],
   "source": [
    "clusters1=kmeans.predict(X_train_vec)\n",
    "clusters2=kmeans2.predict(X_train_vec2)\n",
    "clusters3=agg_cluster.fit_predict(X_train_vec)\n",
    "clusters4=agg_cluster2.fit_predict(X_train_vec2)"
   ]
  },
  {
   "cell_type": "code",
   "execution_count": 54,
   "metadata": {},
   "outputs": [
    {
     "data": {
      "text/html": [
       "<div>\n",
       "<style scoped>\n",
       "    .dataframe tbody tr th:only-of-type {\n",
       "        vertical-align: middle;\n",
       "    }\n",
       "\n",
       "    .dataframe tbody tr th {\n",
       "        vertical-align: top;\n",
       "    }\n",
       "\n",
       "    .dataframe thead th {\n",
       "        text-align: right;\n",
       "    }\n",
       "</style>\n",
       "<table border=\"1\" class=\"dataframe\">\n",
       "  <thead>\n",
       "    <tr style=\"text-align: right;\">\n",
       "      <th></th>\n",
       "      <th>title</th>\n",
       "      <th>nb_chapters</th>\n",
       "      <th>clust_kmeans_bow</th>\n",
       "      <th>clust_kmeans_dm</th>\n",
       "      <th>clust_agg_bow</th>\n",
       "      <th>clust_agg_dm</th>\n",
       "      <th>dist_doc2vec_bow</th>\n",
       "      <th>dist_doc2vec_dm</th>\n",
       "    </tr>\n",
       "  </thead>\n",
       "  <tbody>\n",
       "    <tr>\n",
       "      <th>2841</th>\n",
       "      <td>the poetical works of thomas hood</td>\n",
       "      <td>43</td>\n",
       "      <td>5</td>\n",
       "      <td>8</td>\n",
       "      <td>7</td>\n",
       "      <td>6</td>\n",
       "      <td>34.364055</td>\n",
       "      <td>34.298156</td>\n",
       "    </tr>\n",
       "    <tr>\n",
       "      <th>3423</th>\n",
       "      <td>works of robert burns</td>\n",
       "      <td>41</td>\n",
       "      <td>7</td>\n",
       "      <td>12</td>\n",
       "      <td>9</td>\n",
       "      <td>9</td>\n",
       "      <td>42.541843</td>\n",
       "      <td>42.795527</td>\n",
       "    </tr>\n",
       "    <tr>\n",
       "      <th>967</th>\n",
       "      <td>historical novels</td>\n",
       "      <td>30</td>\n",
       "      <td>24</td>\n",
       "      <td>24</td>\n",
       "      <td>23</td>\n",
       "      <td>24</td>\n",
       "      <td>127.644349</td>\n",
       "      <td>128.337133</td>\n",
       "    </tr>\n",
       "    <tr>\n",
       "      <th>1647</th>\n",
       "      <td>os lusadas</td>\n",
       "      <td>28</td>\n",
       "      <td>2</td>\n",
       "      <td>2</td>\n",
       "      <td>2</td>\n",
       "      <td>2</td>\n",
       "      <td>16.860883</td>\n",
       "      <td>17.194803</td>\n",
       "    </tr>\n",
       "    <tr>\n",
       "      <th>1733</th>\n",
       "      <td>plutarchs lives volume ii</td>\n",
       "      <td>16</td>\n",
       "      <td>10</td>\n",
       "      <td>8</td>\n",
       "      <td>7</td>\n",
       "      <td>10</td>\n",
       "      <td>48.601121</td>\n",
       "      <td>48.555686</td>\n",
       "    </tr>\n",
       "    <tr>\n",
       "      <th>3359</th>\n",
       "      <td>websters unabridged dictionary</td>\n",
       "      <td>16</td>\n",
       "      <td>10</td>\n",
       "      <td>8</td>\n",
       "      <td>9</td>\n",
       "      <td>9</td>\n",
       "      <td>125.489721</td>\n",
       "      <td>121.696066</td>\n",
       "    </tr>\n",
       "    <tr>\n",
       "      <th>2105</th>\n",
       "      <td>the aeneid of virgil</td>\n",
       "      <td>15</td>\n",
       "      <td>5</td>\n",
       "      <td>7</td>\n",
       "      <td>3</td>\n",
       "      <td>4</td>\n",
       "      <td>23.146636</td>\n",
       "      <td>23.333427</td>\n",
       "    </tr>\n",
       "    <tr>\n",
       "      <th>1734</th>\n",
       "      <td>plutarchs lives volume iii</td>\n",
       "      <td>14</td>\n",
       "      <td>7</td>\n",
       "      <td>6</td>\n",
       "      <td>7</td>\n",
       "      <td>8</td>\n",
       "      <td>47.947008</td>\n",
       "      <td>48.440054</td>\n",
       "    </tr>\n",
       "    <tr>\n",
       "      <th>236</th>\n",
       "      <td>anna karenina</td>\n",
       "      <td>14</td>\n",
       "      <td>13</td>\n",
       "      <td>12</td>\n",
       "      <td>12</td>\n",
       "      <td>13</td>\n",
       "      <td>73.336017</td>\n",
       "      <td>73.429818</td>\n",
       "    </tr>\n",
       "    <tr>\n",
       "      <th>480</th>\n",
       "      <td>ciceros tusculan disputations</td>\n",
       "      <td>14</td>\n",
       "      <td>9</td>\n",
       "      <td>7</td>\n",
       "      <td>8</td>\n",
       "      <td>8</td>\n",
       "      <td>42.600194</td>\n",
       "      <td>42.514088</td>\n",
       "    </tr>\n",
       "  </tbody>\n",
       "</table>\n",
       "</div>"
      ],
      "text/plain": [
       "                                  title  nb_chapters  clust_kmeans_bow  \\\n",
       "2841  the poetical works of thomas hood           43                 5   \n",
       "3423              works of robert burns           41                 7   \n",
       "967                   historical novels           30                24   \n",
       "1647                         os lusadas           28                 2   \n",
       "1733          plutarchs lives volume ii           16                10   \n",
       "3359     websters unabridged dictionary           16                10   \n",
       "2105               the aeneid of virgil           15                 5   \n",
       "1734         plutarchs lives volume iii           14                 7   \n",
       "236                       anna karenina           14                13   \n",
       "480       ciceros tusculan disputations           14                 9   \n",
       "\n",
       "      clust_kmeans_dm  clust_agg_bow  clust_agg_dm  dist_doc2vec_bow  \\\n",
       "2841                8              7             6         34.364055   \n",
       "3423               12              9             9         42.541843   \n",
       "967                24             23            24        127.644349   \n",
       "1647                2              2             2         16.860883   \n",
       "1733                8              7            10         48.601121   \n",
       "3359                8              9             9        125.489721   \n",
       "2105                7              3             4         23.146636   \n",
       "1734                6              7             8         47.947008   \n",
       "236                12             12            13         73.336017   \n",
       "480                 7              8             8         42.600194   \n",
       "\n",
       "      dist_doc2vec_dm  \n",
       "2841        34.298156  \n",
       "3423        42.795527  \n",
       "967        128.337133  \n",
       "1647        17.194803  \n",
       "1733        48.555686  \n",
       "3359       121.696066  \n",
       "2105        23.333427  \n",
       "1734        48.440054  \n",
       "236         73.429818  \n",
       "480         42.514088  "
      ]
     },
     "execution_count": 54,
     "metadata": {},
     "output_type": "execute_result"
    }
   ],
   "source": [
    "results=pd.DataFrame({'kmeans_cluster':clusters1, 'kmeans_cluster2':clusters2,\n",
    "                      'agg_cluster':clusters3,  'agg_cluster2':clusters4, 'title':y_train}).groupby('title').agg({'kmeans_cluster':[pd.Series.count, pd.Series.nunique],  \n",
    "                                                                                                                    'kmeans_cluster2':pd.Series.nunique,\n",
    "                                                                                                                    'agg_cluster':pd.Series.nunique,'agg_cluster2':pd.Series.nunique,})\n",
    "results.columns=['nb_chapters', 'clust_kmeans_bow', 'clust_kmeans_dm','clust_agg_bow', 'clust_agg_dm']\n",
    "results=results.merge(results_doc, on='title')\n",
    "results=results.merge(results_doc2, on='title')\n",
    "results.sort_values('nb_chapters', ascending=False).head(10)"
   ]
  },
  {
   "cell_type": "code",
   "execution_count": 72,
   "metadata": {},
   "outputs": [
    {
     "data": {
      "text/plain": [
       "<Axes: xlabel='dist_doc2vec_bow', ylabel='Count'>"
      ]
     },
     "execution_count": 72,
     "metadata": {},
     "output_type": "execute_result"
    },
    {
     "data": {
      "image/png": "[encoded data removed]",
      "text/plain": [
       "<Figure size 640x480 with 1 Axes>"
      ]
     },
     "metadata": {},
     "output_type": "display_data"
    }
   ],
   "source": [
    "fig,ax=plt.subplots()\n",
    "sns.histplot(results['dist_doc2vec_bow'])\n",
    "#ax.set_title('Distribution of the doc2vec distance for chapters embeddings within a same book')"
   ]
  },
  {
   "cell_type": "code",
   "execution_count": 63,
   "metadata": {},
   "outputs": [
    {
     "data": {
      "text/plain": [
       "28.101057878518315"
      ]
     },
     "execution_count": 63,
     "metadata": {},
     "output_type": "execute_result"
    }
   ],
   "source": [
    "#Average distance between cluster centers\n",
    "np.mean(euclidean_distances(kmeans.cluster_centers_))"
   ]
  },
  {
   "cell_type": "code",
   "execution_count": 64,
   "metadata": {},
   "outputs": [
    {
     "data": {
      "text/plain": [
       "27.96861135781652"
      ]
     },
     "execution_count": 64,
     "metadata": {},
     "output_type": "execute_result"
    }
   ],
   "source": [
    "np.mean(euclidean_distances(kmeans2.cluster_centers_))"
   ]
  },
  {
   "cell_type": "code",
   "execution_count": 65,
   "metadata": {},
   "outputs": [
    {
     "data": {
      "text/plain": [
       "1.6275079965106136"
      ]
     },
     "execution_count": 65,
     "metadata": {},
     "output_type": "execute_result"
    }
   ],
   "source": [
    "results['clust_kmeans_bow'].mean()"
   ]
  },
  {
   "cell_type": "code",
   "execution_count": 67,
   "metadata": {},
   "outputs": [
    {
     "data": {
      "text/plain": [
       "1.631578947368421"
      ]
     },
     "execution_count": 67,
     "metadata": {},
     "output_type": "execute_result"
    }
   ],
   "source": [
    "results['clust_kmeans_dm'].mean()"
   ]
  },
  {
   "cell_type": "code",
   "execution_count": 68,
   "metadata": {},
   "outputs": [
    {
     "data": {
      "text/plain": [
       "1.6184937481826112"
      ]
     },
     "execution_count": 68,
     "metadata": {},
     "output_type": "execute_result"
    }
   ],
   "source": [
    "results['clust_agg_bow'].mean()"
   ]
  },
  {
   "cell_type": "code",
   "execution_count": 69,
   "metadata": {},
   "outputs": [
    {
     "data": {
      "text/plain": [
       "1.615295143937191"
      ]
     },
     "execution_count": 69,
     "metadata": {},
     "output_type": "execute_result"
    }
   ],
   "source": [
    "results['clust_agg_dm'].mean()"
   ]
  },
  {
   "cell_type": "code",
   "execution_count": 15,
   "metadata": {},
   "outputs": [
    {
     "data": {
      "text/plain": [
       "count    3860.000000\n",
       "mean       26.026915\n",
       "std        11.466998\n",
       "min         1.272924\n",
       "25%        18.588702\n",
       "50%        24.000248\n",
       "75%        31.859452\n",
       "max       133.120058\n",
       "Name: dist_doc2vec, dtype: float64"
      ]
     },
     "execution_count": 15,
     "metadata": {},
     "output_type": "execute_result"
    }
   ],
   "source": [
    "results['dist_doc2vec'].describe()"
   ]
  },
  {
   "cell_type": "markdown",
   "metadata": {},
   "source": [
    "### Validation set and model selection"
   ]
  },
  {
   "cell_type": "code",
   "execution_count": null,
   "metadata": {},
   "outputs": [],
   "source": [
    "res={}\n",
    "for i, title in enumerate(y_valid):\n",
    "    if title not in res:\n",
    "        res[title]=0\n",
    "    res[title]+=np.sum(X_valid_vec[i]**2)\n",
    "results_doc=pd.DataFrame.from_dict(res, orient='index').reset_index()\n",
    "results_doc.columns=['title', 'dist_doc2vec']\n",
    "results_doc.dist_doc2vec=np.sqrt(results_doc.dist_doc2vec)"
   ]
  },
  {
   "cell_type": "markdown",
   "metadata": {},
   "source": [
    "### Test set"
   ]
  },
  {
   "cell_type": "code",
   "execution_count": 17,
   "metadata": {},
   "outputs": [],
   "source": [
    "res_t={}\n",
    "for i, title in enumerate(y_test):\n",
    "    if title not in res_t:\n",
    "        res_t[title]=0\n",
    "    res_t[title]+=np.sum(X_test_vec[i]**2)\n",
    "results_doc_t=pd.DataFrame.from_dict(res_t, orient='index').reset_index()\n",
    "results_doc_t.columns=['title', 'dist_doc2vec']\n",
    "results_doc_t.dist_doc2vec=np.sqrt(results_doc_t.dist_doc2vec)"
   ]
  },
  {
   "cell_type": "code",
   "execution_count": 18,
   "metadata": {},
   "outputs": [
    {
     "data": {
      "text/html": [
       "<div>\n",
       "<style scoped>\n",
       "    .dataframe tbody tr th:only-of-type {\n",
       "        vertical-align: middle;\n",
       "    }\n",
       "\n",
       "    .dataframe tbody tr th {\n",
       "        vertical-align: top;\n",
       "    }\n",
       "\n",
       "    .dataframe thead th {\n",
       "        text-align: right;\n",
       "    }\n",
       "</style>\n",
       "<table border=\"1\" class=\"dataframe\">\n",
       "  <thead>\n",
       "    <tr style=\"text-align: right;\">\n",
       "      <th></th>\n",
       "      <th>title</th>\n",
       "      <th>nb_chapters</th>\n",
       "      <th>nb_clusters</th>\n",
       "      <th>dist_doc2vec</th>\n",
       "    </tr>\n",
       "  </thead>\n",
       "  <tbody>\n",
       "    <tr>\n",
       "      <th>1244</th>\n",
       "      <td>the poetical works of thomas hood</td>\n",
       "      <td>14</td>\n",
       "      <td>4</td>\n",
       "      <td>14.051041</td>\n",
       "    </tr>\n",
       "    <tr>\n",
       "      <th>1503</th>\n",
       "      <td>works of robert burns</td>\n",
       "      <td>14</td>\n",
       "      <td>8</td>\n",
       "      <td>22.735657</td>\n",
       "    </tr>\n",
       "    <tr>\n",
       "      <th>1479</th>\n",
       "      <td>websters unabridged dictionary</td>\n",
       "      <td>10</td>\n",
       "      <td>5</td>\n",
       "      <td>61.323238</td>\n",
       "    </tr>\n",
       "    <tr>\n",
       "      <th>729</th>\n",
       "      <td>os lusadas</td>\n",
       "      <td>10</td>\n",
       "      <td>1</td>\n",
       "      <td>8.581459</td>\n",
       "    </tr>\n",
       "    <tr>\n",
       "      <th>923</th>\n",
       "      <td>the aeneid of virgil</td>\n",
       "      <td>9</td>\n",
       "      <td>5</td>\n",
       "      <td>20.930494</td>\n",
       "    </tr>\n",
       "    <tr>\n",
       "      <th>418</th>\n",
       "      <td>historical novels</td>\n",
       "      <td>8</td>\n",
       "      <td>7</td>\n",
       "      <td>44.272198</td>\n",
       "    </tr>\n",
       "    <tr>\n",
       "      <th>774</th>\n",
       "      <td>plutarchs lives volume iii</td>\n",
       "      <td>7</td>\n",
       "      <td>4</td>\n",
       "      <td>26.335530</td>\n",
       "    </tr>\n",
       "    <tr>\n",
       "      <th>935</th>\n",
       "      <td>the antiquities of the jews</td>\n",
       "      <td>7</td>\n",
       "      <td>7</td>\n",
       "      <td>53.150846</td>\n",
       "    </tr>\n",
       "    <tr>\n",
       "      <th>201</th>\n",
       "      <td>childe harolds pilgrimage</td>\n",
       "      <td>7</td>\n",
       "      <td>4</td>\n",
       "      <td>14.120943</td>\n",
       "    </tr>\n",
       "    <tr>\n",
       "      <th>370</th>\n",
       "      <td>good sense</td>\n",
       "      <td>6</td>\n",
       "      <td>4</td>\n",
       "      <td>22.149982</td>\n",
       "    </tr>\n",
       "  </tbody>\n",
       "</table>\n",
       "</div>"
      ],
      "text/plain": [
       "                                  title  nb_chapters  nb_clusters  \\\n",
       "1244  the poetical works of thomas hood           14            4   \n",
       "1503              works of robert burns           14            8   \n",
       "1479     websters unabridged dictionary           10            5   \n",
       "729                          os lusadas           10            1   \n",
       "923                the aeneid of virgil            9            5   \n",
       "418                   historical novels            8            7   \n",
       "774          plutarchs lives volume iii            7            4   \n",
       "935         the antiquities of the jews            7            7   \n",
       "201           childe harolds pilgrimage            7            4   \n",
       "370                          good sense            6            4   \n",
       "\n",
       "      dist_doc2vec  \n",
       "1244     14.051041  \n",
       "1503     22.735657  \n",
       "1479     61.323238  \n",
       "729       8.581459  \n",
       "923      20.930494  \n",
       "418      44.272198  \n",
       "774      26.335530  \n",
       "935      53.150846  \n",
       "201      14.120943  \n",
       "370      22.149982  "
      ]
     },
     "execution_count": 18,
     "metadata": {},
     "output_type": "execute_result"
    }
   ],
   "source": [
    "results2=pd.DataFrame({'cluster':clusters_t, 'title':y_test}).groupby('title').agg([pd.Series.count, pd.Series.nunique])\n",
    "results2.columns=['nb_chapters', 'nb_clusters']\n",
    "results2=results2.merge(results_doc_t, on='title')\n",
    "results2.sort_values('nb_chapters', ascending=False).head(10)"
   ]
  },
  {
   "cell_type": "code",
   "execution_count": 19,
   "metadata": {},
   "outputs": [
    {
     "data": {
      "text/plain": [
       "count    1509.000000\n",
       "mean        1.242545\n",
       "std         0.614388\n",
       "min         1.000000\n",
       "25%         1.000000\n",
       "50%         1.000000\n",
       "75%         1.000000\n",
       "max         8.000000\n",
       "Name: nb_clusters, dtype: float64"
      ]
     },
     "execution_count": 19,
     "metadata": {},
     "output_type": "execute_result"
    }
   ],
   "source": [
    "results2['nb_clusters'].describe()"
   ]
  },
  {
   "cell_type": "code",
   "execution_count": 20,
   "metadata": {},
   "outputs": [
    {
     "data": {
      "text/plain": [
       "count    1509.000000\n",
       "mean       15.795216\n",
       "std         6.466926\n",
       "min         1.173207\n",
       "25%        11.875908\n",
       "50%        14.767870\n",
       "75%        18.512836\n",
       "max        61.323238\n",
       "Name: dist_doc2vec, dtype: float64"
      ]
     },
     "execution_count": 20,
     "metadata": {},
     "output_type": "execute_result"
    }
   ],
   "source": [
    "results2['dist_doc2vec'].describe()"
   ]
  }
 ],
 "metadata": {
  "kernelspec": {
   "display_name": "genomic",
   "language": "python",
   "name": "python3"
  },
  "language_info": {
   "codemirror_mode": {
    "name": "ipython",
    "version": 3
   },
   "file_extension": ".py",
   "mimetype": "text/x-python",
   "name": "python",
   "nbconvert_exporter": "python",
   "pygments_lexer": "ipython3",
   "version": "3.10.9"
  }
 },
 "nbformat": 4,
 "nbformat_minor": 2
}
