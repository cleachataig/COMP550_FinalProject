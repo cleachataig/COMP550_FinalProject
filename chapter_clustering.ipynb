{
 "cells": [
  {
   "cell_type": "markdown",
   "metadata": {},
   "source": [
    "This notebook is for the chapter clustering task."
   ]
  },
  {
   "cell_type": "markdown",
   "metadata": {},
   "source": [
    "# Importation"
   ]
  },
  {
   "cell_type": "code",
   "execution_count": 1,
   "metadata": {},
   "outputs": [],
   "source": [
    "from gensim.models.doc2vec import Doc2Vec, TaggedDocument\n",
    "import pickle\n",
    "import pandas as pd\n",
    "import numpy as np\n",
    "from sklearn.model_selection import train_test_split\n",
    "from sklearn.metrics import accuracy_score\n",
    "from sklearn.cluster import KMeans"
   ]
  },
  {
   "cell_type": "code",
   "execution_count": 2,
   "metadata": {},
   "outputs": [],
   "source": [
    "#TODO change here the path to your data folder\n",
    "data_path='./data'"
   ]
  },
  {
   "cell_type": "code",
   "execution_count": 3,
   "metadata": {},
   "outputs": [],
   "source": [
    "#Importing the X and y\n",
    "with open(data_path+'/X2.pkl', 'rb') as f:\n",
    "    X=pickle.load(f)\n",
    "\n",
    "with open(data_path+'/y2.pkl', 'rb') as f:\n",
    "    y=pickle.load(f)"
   ]
  },
  {
   "cell_type": "code",
   "execution_count": 4,
   "metadata": {},
   "outputs": [],
   "source": [
    "X_train, X_test, y_train, y_test = train_test_split(X, y, test_size=0.2, random_state=42)"
   ]
  },
  {
   "cell_type": "markdown",
   "metadata": {},
   "source": [
    "# Doc2Vec"
   ]
  },
  {
   "cell_type": "code",
   "execution_count": 5,
   "metadata": {},
   "outputs": [],
   "source": [
    "# tagged data: each doc number is a label\n",
    "tagged_data = [TaggedDocument(words=doc,\n",
    "                              tags=[str(i)]) for i, doc in enumerate(X_train)]\n",
    "# train the Doc2vec model\n",
    "model = Doc2Vec(vector_size=20,\n",
    "                min_count=2, epochs=50)\n",
    "model.build_vocab(tagged_data)\n",
    "model.train(tagged_data,\n",
    "            total_examples=model.corpus_count,\n",
    "            epochs=model.epochs)"
   ]
  },
  {
   "cell_type": "code",
   "execution_count": 6,
   "metadata": {},
   "outputs": [],
   "source": [
    "# get the document vectors\n",
    "X_train_vec = [model.infer_vector(doc) for doc in X_train]\n",
    "X_test_vec = [model.infer_vector(doc) for doc in X_test]"
   ]
  },
  {
   "cell_type": "markdown",
   "metadata": {},
   "source": [
    "# Model"
   ]
  },
  {
   "cell_type": "code",
   "execution_count": 8,
   "metadata": {},
   "outputs": [],
   "source": [
    "kmeans = KMeans(n_clusters=4000, random_state=0, n_init=\"auto\").fit(X_train_vec)"
   ]
  },
  {
   "cell_type": "code",
   "execution_count": 9,
   "metadata": {},
   "outputs": [],
   "source": [
    "clusters=kmeans.predict(X_train_vec)"
   ]
  },
  {
   "cell_type": "code",
   "execution_count": 16,
   "metadata": {},
   "outputs": [],
   "source": [
    "clusters_t=kmeans.predict(X_test_vec)"
   ]
  },
  {
   "cell_type": "markdown",
   "metadata": {},
   "source": [
    "# Results"
   ]
  },
  {
   "cell_type": "markdown",
   "metadata": {},
   "source": [
    "### Training set"
   ]
  },
  {
   "cell_type": "code",
   "execution_count": 11,
   "metadata": {},
   "outputs": [],
   "source": [
    "res={}\n",
    "for i, title in enumerate(y_train):\n",
    "    if title not in res:\n",
    "        res[title]=0\n",
    "    res[title]+=np.sum(X_train_vec[i]**2)\n",
    "results_doc=pd.DataFrame.from_dict(res, orient='index').reset_index()\n",
    "results_doc.columns=['title', 'dist_doc2vec']\n",
    "results_doc.dist_doc2vec=np.sqrt(results_doc.dist_doc2vec)"
   ]
  },
  {
   "cell_type": "code",
   "execution_count": 13,
   "metadata": {},
   "outputs": [
    {
     "data": {
      "text/html": [
       "<div>\n",
       "<style scoped>\n",
       "    .dataframe tbody tr th:only-of-type {\n",
       "        vertical-align: middle;\n",
       "    }\n",
       "\n",
       "    .dataframe tbody tr th {\n",
       "        vertical-align: top;\n",
       "    }\n",
       "\n",
       "    .dataframe thead th {\n",
       "        text-align: right;\n",
       "    }\n",
       "</style>\n",
       "<table border=\"1\" class=\"dataframe\">\n",
       "  <thead>\n",
       "    <tr style=\"text-align: right;\">\n",
       "      <th></th>\n",
       "      <th>title</th>\n",
       "      <th>nb_chapters</th>\n",
       "      <th>nb_clusters</th>\n",
       "      <th>dist_doc2vec</th>\n",
       "    </tr>\n",
       "  </thead>\n",
       "  <tbody>\n",
       "    <tr>\n",
       "      <th>3185</th>\n",
       "      <td>the poetical works of thomas hood</td>\n",
       "      <td>53</td>\n",
       "      <td>10</td>\n",
       "      <td>35.944016</td>\n",
       "    </tr>\n",
       "    <tr>\n",
       "      <th>3840</th>\n",
       "      <td>works of robert burns</td>\n",
       "      <td>51</td>\n",
       "      <td>9</td>\n",
       "      <td>46.237261</td>\n",
       "    </tr>\n",
       "    <tr>\n",
       "      <th>1840</th>\n",
       "      <td>os lusadas</td>\n",
       "      <td>40</td>\n",
       "      <td>2</td>\n",
       "      <td>19.397831</td>\n",
       "    </tr>\n",
       "    <tr>\n",
       "      <th>1082</th>\n",
       "      <td>historical novels</td>\n",
       "      <td>34</td>\n",
       "      <td>29</td>\n",
       "      <td>133.120058</td>\n",
       "    </tr>\n",
       "    <tr>\n",
       "      <th>2355</th>\n",
       "      <td>the aeneid of virgil</td>\n",
       "      <td>24</td>\n",
       "      <td>7</td>\n",
       "      <td>29.269658</td>\n",
       "    </tr>\n",
       "    <tr>\n",
       "      <th>3769</th>\n",
       "      <td>websters unabridged dictionary</td>\n",
       "      <td>21</td>\n",
       "      <td>13</td>\n",
       "      <td>130.406420</td>\n",
       "    </tr>\n",
       "    <tr>\n",
       "      <th>1939</th>\n",
       "      <td>plutarchs lives volume ii</td>\n",
       "      <td>18</td>\n",
       "      <td>12</td>\n",
       "      <td>53.183596</td>\n",
       "    </tr>\n",
       "    <tr>\n",
       "      <th>511</th>\n",
       "      <td>childrens literature</td>\n",
       "      <td>18</td>\n",
       "      <td>17</td>\n",
       "      <td>54.576898</td>\n",
       "    </tr>\n",
       "    <tr>\n",
       "      <th>1940</th>\n",
       "      <td>plutarchs lives volume iii</td>\n",
       "      <td>18</td>\n",
       "      <td>8</td>\n",
       "      <td>52.526703</td>\n",
       "    </tr>\n",
       "    <tr>\n",
       "      <th>530</th>\n",
       "      <td>ciceros tusculan disputations</td>\n",
       "      <td>16</td>\n",
       "      <td>11</td>\n",
       "      <td>52.030605</td>\n",
       "    </tr>\n",
       "  </tbody>\n",
       "</table>\n",
       "</div>"
      ],
      "text/plain": [
       "                                  title  nb_chapters  nb_clusters  \\\n",
       "3185  the poetical works of thomas hood           53           10   \n",
       "3840              works of robert burns           51            9   \n",
       "1840                         os lusadas           40            2   \n",
       "1082                  historical novels           34           29   \n",
       "2355               the aeneid of virgil           24            7   \n",
       "3769     websters unabridged dictionary           21           13   \n",
       "1939          plutarchs lives volume ii           18           12   \n",
       "511                childrens literature           18           17   \n",
       "1940         plutarchs lives volume iii           18            8   \n",
       "530       ciceros tusculan disputations           16           11   \n",
       "\n",
       "      dist_doc2vec  \n",
       "3185     35.944016  \n",
       "3840     46.237261  \n",
       "1840     19.397831  \n",
       "1082    133.120058  \n",
       "2355     29.269658  \n",
       "3769    130.406420  \n",
       "1939     53.183596  \n",
       "511      54.576898  \n",
       "1940     52.526703  \n",
       "530      52.030605  "
      ]
     },
     "execution_count": 13,
     "metadata": {},
     "output_type": "execute_result"
    }
   ],
   "source": [
    "results=pd.DataFrame({'cluster':clusters, 'title':y_train}).groupby('title').agg([pd.Series.count, pd.Series.nunique])\n",
    "results.columns=['nb_chapters', 'nb_clusters']\n",
    "results=results.merge(results_doc, on='title')\n",
    "results.sort_values('nb_chapters', ascending=False).head(10)"
   ]
  },
  {
   "cell_type": "code",
   "execution_count": 14,
   "metadata": {},
   "outputs": [
    {
     "data": {
      "text/plain": [
       "count    3860.000000\n",
       "mean        1.803109\n",
       "std         1.348784\n",
       "min         1.000000\n",
       "25%         1.000000\n",
       "50%         1.000000\n",
       "75%         2.000000\n",
       "max        29.000000\n",
       "Name: nb_clusters, dtype: float64"
      ]
     },
     "execution_count": 14,
     "metadata": {},
     "output_type": "execute_result"
    }
   ],
   "source": [
    "results['nb_clusters'].describe()"
   ]
  },
  {
   "cell_type": "code",
   "execution_count": 15,
   "metadata": {},
   "outputs": [
    {
     "data": {
      "text/plain": [
       "count    3860.000000\n",
       "mean       26.026915\n",
       "std        11.466998\n",
       "min         1.272924\n",
       "25%        18.588702\n",
       "50%        24.000248\n",
       "75%        31.859452\n",
       "max       133.120058\n",
       "Name: dist_doc2vec, dtype: float64"
      ]
     },
     "execution_count": 15,
     "metadata": {},
     "output_type": "execute_result"
    }
   ],
   "source": [
    "results['dist_doc2vec'].describe()"
   ]
  },
  {
   "cell_type": "markdown",
   "metadata": {},
   "source": [
    "### Test set"
   ]
  },
  {
   "cell_type": "code",
   "execution_count": 17,
   "metadata": {},
   "outputs": [],
   "source": [
    "res_t={}\n",
    "for i, title in enumerate(y_test):\n",
    "    if title not in res_t:\n",
    "        res_t[title]=0\n",
    "    res_t[title]+=np.sum(X_test_vec[i]**2)\n",
    "results_doc_t=pd.DataFrame.from_dict(res_t, orient='index').reset_index()\n",
    "results_doc_t.columns=['title', 'dist_doc2vec']\n",
    "results_doc_t.dist_doc2vec=np.sqrt(results_doc_t.dist_doc2vec)"
   ]
  },
  {
   "cell_type": "code",
   "execution_count": 18,
   "metadata": {},
   "outputs": [
    {
     "data": {
      "text/html": [
       "<div>\n",
       "<style scoped>\n",
       "    .dataframe tbody tr th:only-of-type {\n",
       "        vertical-align: middle;\n",
       "    }\n",
       "\n",
       "    .dataframe tbody tr th {\n",
       "        vertical-align: top;\n",
       "    }\n",
       "\n",
       "    .dataframe thead th {\n",
       "        text-align: right;\n",
       "    }\n",
       "</style>\n",
       "<table border=\"1\" class=\"dataframe\">\n",
       "  <thead>\n",
       "    <tr style=\"text-align: right;\">\n",
       "      <th></th>\n",
       "      <th>title</th>\n",
       "      <th>nb_chapters</th>\n",
       "      <th>nb_clusters</th>\n",
       "      <th>dist_doc2vec</th>\n",
       "    </tr>\n",
       "  </thead>\n",
       "  <tbody>\n",
       "    <tr>\n",
       "      <th>1244</th>\n",
       "      <td>the poetical works of thomas hood</td>\n",
       "      <td>14</td>\n",
       "      <td>4</td>\n",
       "      <td>14.051041</td>\n",
       "    </tr>\n",
       "    <tr>\n",
       "      <th>1503</th>\n",
       "      <td>works of robert burns</td>\n",
       "      <td>14</td>\n",
       "      <td>8</td>\n",
       "      <td>22.735657</td>\n",
       "    </tr>\n",
       "    <tr>\n",
       "      <th>1479</th>\n",
       "      <td>websters unabridged dictionary</td>\n",
       "      <td>10</td>\n",
       "      <td>5</td>\n",
       "      <td>61.323238</td>\n",
       "    </tr>\n",
       "    <tr>\n",
       "      <th>729</th>\n",
       "      <td>os lusadas</td>\n",
       "      <td>10</td>\n",
       "      <td>1</td>\n",
       "      <td>8.581459</td>\n",
       "    </tr>\n",
       "    <tr>\n",
       "      <th>923</th>\n",
       "      <td>the aeneid of virgil</td>\n",
       "      <td>9</td>\n",
       "      <td>5</td>\n",
       "      <td>20.930494</td>\n",
       "    </tr>\n",
       "    <tr>\n",
       "      <th>418</th>\n",
       "      <td>historical novels</td>\n",
       "      <td>8</td>\n",
       "      <td>7</td>\n",
       "      <td>44.272198</td>\n",
       "    </tr>\n",
       "    <tr>\n",
       "      <th>774</th>\n",
       "      <td>plutarchs lives volume iii</td>\n",
       "      <td>7</td>\n",
       "      <td>4</td>\n",
       "      <td>26.335530</td>\n",
       "    </tr>\n",
       "    <tr>\n",
       "      <th>935</th>\n",
       "      <td>the antiquities of the jews</td>\n",
       "      <td>7</td>\n",
       "      <td>7</td>\n",
       "      <td>53.150846</td>\n",
       "    </tr>\n",
       "    <tr>\n",
       "      <th>201</th>\n",
       "      <td>childe harolds pilgrimage</td>\n",
       "      <td>7</td>\n",
       "      <td>4</td>\n",
       "      <td>14.120943</td>\n",
       "    </tr>\n",
       "    <tr>\n",
       "      <th>370</th>\n",
       "      <td>good sense</td>\n",
       "      <td>6</td>\n",
       "      <td>4</td>\n",
       "      <td>22.149982</td>\n",
       "    </tr>\n",
       "  </tbody>\n",
       "</table>\n",
       "</div>"
      ],
      "text/plain": [
       "                                  title  nb_chapters  nb_clusters  \\\n",
       "1244  the poetical works of thomas hood           14            4   \n",
       "1503              works of robert burns           14            8   \n",
       "1479     websters unabridged dictionary           10            5   \n",
       "729                          os lusadas           10            1   \n",
       "923                the aeneid of virgil            9            5   \n",
       "418                   historical novels            8            7   \n",
       "774          plutarchs lives volume iii            7            4   \n",
       "935         the antiquities of the jews            7            7   \n",
       "201           childe harolds pilgrimage            7            4   \n",
       "370                          good sense            6            4   \n",
       "\n",
       "      dist_doc2vec  \n",
       "1244     14.051041  \n",
       "1503     22.735657  \n",
       "1479     61.323238  \n",
       "729       8.581459  \n",
       "923      20.930494  \n",
       "418      44.272198  \n",
       "774      26.335530  \n",
       "935      53.150846  \n",
       "201      14.120943  \n",
       "370      22.149982  "
      ]
     },
     "execution_count": 18,
     "metadata": {},
     "output_type": "execute_result"
    }
   ],
   "source": [
    "results2=pd.DataFrame({'cluster':clusters_t, 'title':y_test}).groupby('title').agg([pd.Series.count, pd.Series.nunique])\n",
    "results2.columns=['nb_chapters', 'nb_clusters']\n",
    "results2=results2.merge(results_doc_t, on='title')\n",
    "results2.sort_values('nb_chapters', ascending=False).head(10)"
   ]
  },
  {
   "cell_type": "code",
   "execution_count": 19,
   "metadata": {},
   "outputs": [
    {
     "data": {
      "text/plain": [
       "count    1509.000000\n",
       "mean        1.242545\n",
       "std         0.614388\n",
       "min         1.000000\n",
       "25%         1.000000\n",
       "50%         1.000000\n",
       "75%         1.000000\n",
       "max         8.000000\n",
       "Name: nb_clusters, dtype: float64"
      ]
     },
     "execution_count": 19,
     "metadata": {},
     "output_type": "execute_result"
    }
   ],
   "source": [
    "results2['nb_clusters'].describe()"
   ]
  },
  {
   "cell_type": "code",
   "execution_count": 20,
   "metadata": {},
   "outputs": [
    {
     "data": {
      "text/plain": [
       "count    1509.000000\n",
       "mean       15.795216\n",
       "std         6.466926\n",
       "min         1.173207\n",
       "25%        11.875908\n",
       "50%        14.767870\n",
       "75%        18.512836\n",
       "max        61.323238\n",
       "Name: dist_doc2vec, dtype: float64"
      ]
     },
     "execution_count": 20,
     "metadata": {},
     "output_type": "execute_result"
    }
   ],
   "source": [
    "results2['dist_doc2vec'].describe()"
   ]
  }
 ],
 "metadata": {
  "kernelspec": {
   "display_name": "genomic",
   "language": "python",
   "name": "python3"
  },
  "language_info": {
   "codemirror_mode": {
    "name": "ipython",
    "version": 3
   },
   "file_extension": ".py",
   "mimetype": "text/x-python",
   "name": "python",
   "nbconvert_exporter": "python",
   "pygments_lexer": "ipython3",
   "version": "3.10.9"
  }
 },
 "nbformat": 4,
 "nbformat_minor": 2
}
